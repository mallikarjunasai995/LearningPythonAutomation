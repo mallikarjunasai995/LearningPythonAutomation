{
 "cells": [
  {
   "cell_type": "markdown",
   "id": "ec48edd6",
   "metadata": {
    "lines_to_next_cell": 2
   },
   "source": [
    "OOOPS........ #classes/objects\n",
    "everything in python is object which has attributes and methods(nothing but functions in the class)\n",
    "__ - underscore before any method represents private methods\n",
    "Encapsulation - the grouping lo public and private attributes and methods into a programmatic class, making abstraction possible\n",
    "Example - Designing a deck class , make cards a private attribute(list)\n",
    "Abstraction - idea to expose only relavant data in class interface hiding private attributes and methods\n",
    "classnames - CamelCase\n",
    "methodnames/Variables - snakeCase\n",
    "__init__(self,x,x) - is like constructor for a class aka default method\n",
    "self keyword refers to the current class of an instance"
   ]
  },
  {
   "cell_type": "code",
   "execution_count": null,
   "id": "414fd0e5",
   "metadata": {},
   "outputs": [],
   "source": [
    "#python will create a class level object using PVM for every object\n",
    "#static , instance , local variables \n",
    "#static method - general utility method @static method decorator (not using static or instance variables)\n",
    "#instance method - insdie method if we are accessing instance variable is called instance method - first argument is self\n",
    "#class method - @class method decorator we need to put , mostly we will use to access static methods within a class by passing\n",
    "               #cls variable"
   ]
  },
  {
   "cell_type": "code",
   "execution_count": null,
   "id": "c15f3cde",
   "metadata": {},
   "outputs": [],
   "source": [
    "Accessing attributes and methods of one class in another class --\n",
    "answer)) create parent object first then pass the parent object (not class ) to another class whcih needs that\n",
    "Accessing Attributes and Methods in Python -- ??"
   ]
  },
  {
   "cell_type": "code",
   "execution_count": null,
   "id": "198f0d87",
   "metadata": {
    "lines_to_next_cell": 2
   },
   "outputs": [],
   "source": [
    "#polymorphism - operator overloading . example -- + operator used to concatenate ints and strings as well\n",
    "                # method overriding - child class has same method like parent but with some modification"
   ]
  },
  {
   "cell_type": "code",
   "execution_count": null,
   "id": "1590da2a",
   "metadata": {},
   "outputs": [],
   "source": [
    "#abstraction - abstract method -only declaration bt not engouh implementation\n",
    "            # declare abstract method by using @abstractmethod decorator\n",
    "            #abstractmethod present in abc module - ABC - abstract base class\n",
    "            #abstract class contians both abstract and non abstract methods\n",
    "#interface - only contains abstract methods - service requriement specification - SRS"
   ]
  },
  {
   "cell_type": "code",
   "execution_count": null,
   "id": "61063c7d",
   "metadata": {
    "lines_to_next_cell": 2
   },
   "outputs": [],
   "source": [
    "from abc import abstractmethod\n",
    "class Vehicle:\n",
    "    @abstractmethod\n",
    "    def getNoofWheels(self):\n",
    "        pass"
   ]
  },
  {
   "cell_type": "code",
   "execution_count": null,
   "id": "da563be5",
   "metadata": {},
   "outputs": [],
   "source": [
    "abstract class - class contains abstract methods"
   ]
  },
  {
   "cell_type": "code",
   "execution_count": null,
   "id": "4d0b4a65",
   "metadata": {},
   "outputs": [],
   "source": [
    "__variable - privare variable similary private method can also be declare but through \"name manglign\" we can access these also"
   ]
  },
  {
   "cell_type": "code",
   "execution_count": null,
   "id": "4b0d2ef5",
   "metadata": {
    "lines_to_next_cell": 2
   },
   "outputs": [],
   "source": [
    "#_protected  - (single underscore) - within the class you can access like private member also \n",
    "                # outside of class only in child class you can accesss"
   ]
  },
  {
   "cell_type": "code",
   "execution_count": null,
   "id": "14f62b95",
   "metadata": {},
   "outputs": [],
   "source": [
    "#data hiding - declare private member for the variable which shouldn't be seen  - example - bank - bank balance\n",
    "                #some validation/authentication method then return the private member variable through that method in the class"
   ]
  },
  {
   "cell_type": "code",
   "execution_count": null,
   "id": "025e4ac6",
   "metadata": {
    "lines_to_next_cell": 2
   },
   "outputs": [],
   "source": []
  },
  {
   "cell_type": "code",
   "execution_count": null,
   "id": "f914ab90",
   "metadata": {},
   "outputs": [],
   "source": [
    "class student:\n",
    "    schoolname = 'durgasoft'\n",
    "    def __init__(self,name,rollno):\n",
    "        self.name = name\n",
    "        self.rollno = rollno\n",
    "    def getStudentInfo(self): #instance method\n",
    "        print(\"student name : \"+ self.name)"
   ]
  },
  {
   "cell_type": "code",
   "execution_count": null,
   "id": "4cefe1bb",
   "metadata": {},
   "outputs": [],
   "source": [
    "    @classmethod\n",
    "    def getSchoolName(cls):\n",
    "        print(\"class static variable \"+ cls.schoolname)"
   ]
  },
  {
   "cell_type": "code",
   "execution_count": null,
   "id": "1db0a070",
   "metadata": {},
   "outputs": [],
   "source": [
    "    @staticmethod\n",
    "    def getsum(a,b):\n",
    "        sum = a+b\n",
    "        return sum"
   ]
  },
  {
   "cell_type": "code",
   "execution_count": null,
   "id": "99a8ca90",
   "metadata": {},
   "outputs": [],
   "source": [
    "delete,access instance and static varianles : "
   ]
  },
  {
   "cell_type": "code",
   "execution_count": null,
   "id": "59d24513",
   "metadata": {},
   "outputs": [],
   "source": []
  },
  {
   "cell_type": "code",
   "execution_count": null,
   "id": "3e5d7c7f",
   "metadata": {
    "lines_to_next_cell": 2
   },
   "outputs": [],
   "source": []
  },
  {
   "cell_type": "markdown",
   "id": "1b27af06",
   "metadata": {},
   "source": [
    "Define Bank Account Below:\n",
    "class BankAccount:\n",
    "    def __init__(self,owner):\n",
    "        self.owner = owner\n",
    "        self.balance = 0.0"
   ]
  },
  {
   "cell_type": "markdown",
   "id": "fd7c9a6a",
   "metadata": {},
   "source": [
    "    def balance(self):\n",
    "        return self.balance"
   ]
  },
  {
   "cell_type": "markdown",
   "id": "97314bb6",
   "metadata": {},
   "source": [
    "    def deposit(self,amount):"
   ]
  },
  {
   "cell_type": "markdown",
   "id": "9c2faa29",
   "metadata": {},
   "source": [
    "        self.balance = self.balance + amount\n",
    "        return self.balance"
   ]
  },
  {
   "cell_type": "markdown",
   "id": "6c8fdc43",
   "metadata": {},
   "source": [
    "    def withdraw(self,amount):"
   ]
  },
  {
   "cell_type": "markdown",
   "id": "7d791a2c",
   "metadata": {},
   "source": [
    "        self.balance = self.balance - amount\n",
    "        return self.balance"
   ]
  },
  {
   "cell_type": "code",
   "execution_count": null,
   "id": "545cddd1",
   "metadata": {},
   "outputs": [],
   "source": []
  },
  {
   "cell_type": "code",
   "execution_count": null,
   "id": "09d1569a",
   "metadata": {},
   "outputs": [],
   "source": [
    "        "
   ]
  },
  {
   "cell_type": "code",
   "execution_count": null,
   "id": "8cf02eb6",
   "metadata": {},
   "outputs": [],
   "source": []
  },
  {
   "cell_type": "code",
   "execution_count": null,
   "id": "23e0e0ea",
   "metadata": {
    "lines_to_next_cell": 1
   },
   "outputs": [],
   "source": [
    "\"\"\"importnace of class attributes- idependent of instance methods and apply to the whole class\n",
    "\n",
    "\"\"\"\n",
    "class Chicken:\n",
    "    total_eggs = 0\n",
    "    def __init__(self, name, species):\n",
    "        self.name = name\n",
    "        self.species = species\n",
    "        self.eggs = 0\n",
    "    \n",
    "    def lay_egg(self):\n",
    "        self.eggs += 1\n",
    "        Chicken.total_eggs += 1\n",
    "        return self.eggs"
   ]
  },
  {
   "cell_type": "code",
   "execution_count": null,
   "id": "d4642a57",
   "metadata": {},
   "outputs": [],
   "source": [
    "hen1 = Chicken(\"natukodi\",\"kodi\")\n",
    "hen2 = Chicken(\"normalkodi\",\"kodi\")"
   ]
  },
  {
   "cell_type": "code",
   "execution_count": null,
   "id": "9aaa3ff2",
   "metadata": {},
   "outputs": [],
   "source": [
    "\"\"\"Class methods : @class method decorator , concerned with the class itself\n",
    "   cls - keyowrd as like self in instance methods \n",
    "   def(cls, data_stirng):\n",
    "       first,second,thrid = data_string.split(\",\")\n",
    "\n",
    "    we will on use this when we reflect the change on entire class level rather on isntances\n",
    "\n",
    "\"\"\""
   ]
  },
  {
   "cell_type": "code",
   "execution_count": null,
   "id": "4b0d0dd5",
   "metadata": {},
   "outputs": [],
   "source": [
    "\"\"\"\n",
    "dunder __repr__ method : representation\n",
    " while printing the object , we get object at particular memory address \n",
    " isntead repr method will give us the exact info depends on what we return\n",
    " inside that ...\n",
    "\n",
    "\"\"\""
   ]
  },
  {
   "cell_type": "code",
   "execution_count": null,
   "id": "6ff80b7c",
   "metadata": {},
   "outputs": [],
   "source": [
    "\"\"\"\"From here , python notebook for classes , modules will happen\n",
    "as per the percepio course\n",
    "\"\"\"\""
   ]
  },
  {
   "cell_type": "code",
   "execution_count": 2,
   "id": "f5988f66",
   "metadata": {},
   "outputs": [],
   "source": [
    "class Dog: \n",
    "    pass"
   ]
  },
  {
   "cell_type": "code",
   "execution_count": 3,
   "id": "dea2e826",
   "metadata": {},
   "outputs": [],
   "source": [
    "dog1 = Dog()"
   ]
  },
  {
   "cell_type": "code",
   "execution_count": 4,
   "id": "7d0f7452",
   "metadata": {},
   "outputs": [
    {
     "data": {
      "text/plain": [
       "__main__.Dog"
      ]
     },
     "execution_count": 4,
     "metadata": {},
     "output_type": "execute_result"
    }
   ],
   "source": [
    "type(dog1)"
   ]
  },
  {
   "cell_type": "code",
   "execution_count": 5,
   "id": "a85572db",
   "metadata": {},
   "outputs": [
    {
     "data": {
      "text/plain": [
       "<__main__.Dog at 0x18073b0a290>"
      ]
     },
     "execution_count": 5,
     "metadata": {},
     "output_type": "execute_result"
    }
   ],
   "source": [
    "dog1"
   ]
  },
  {
   "cell_type": "code",
   "execution_count": 8,
   "id": "3c7542e6",
   "metadata": {},
   "outputs": [],
   "source": [
    "\"\"\"can add properties in the empy class/object \"\"\"\n",
    "dog1.kind = \"innocent\""
   ]
  },
  {
   "cell_type": "code",
   "execution_count": 9,
   "id": "c5b29ae7",
   "metadata": {},
   "outputs": [
    {
     "data": {
      "text/plain": [
       "['__class__',\n",
       " '__delattr__',\n",
       " '__dict__',\n",
       " '__dir__',\n",
       " '__doc__',\n",
       " '__eq__',\n",
       " '__format__',\n",
       " '__ge__',\n",
       " '__getattribute__',\n",
       " '__getstate__',\n",
       " '__gt__',\n",
       " '__hash__',\n",
       " '__init__',\n",
       " '__init_subclass__',\n",
       " '__le__',\n",
       " '__lt__',\n",
       " '__module__',\n",
       " '__ne__',\n",
       " '__new__',\n",
       " '__reduce__',\n",
       " '__reduce_ex__',\n",
       " '__repr__',\n",
       " '__setattr__',\n",
       " '__sizeof__',\n",
       " '__str__',\n",
       " '__subclasshook__',\n",
       " '__weakref__',\n",
       " 'kind']"
      ]
     },
     "execution_count": 9,
     "metadata": {},
     "output_type": "execute_result"
    }
   ],
   "source": [
    "dir(dog1)"
   ]
  },
  {
   "cell_type": "code",
   "execution_count": 10,
   "id": "ea6eae56",
   "metadata": {},
   "outputs": [],
   "source": [
    "class Dog:\n",
    "    #class varaibles shared by all instances of class , can change values as well\n",
    "    kind = \"\"\n",
    "    age=0"
   ]
  },
  {
   "cell_type": "code",
   "execution_count": 11,
   "id": "1822b0fb",
   "metadata": {},
   "outputs": [],
   "source": [
    "dog1.kind=\"golden\"\n",
    "dog1.age=70"
   ]
  },
  {
   "cell_type": "code",
   "execution_count": 12,
   "id": "32b1989e",
   "metadata": {},
   "outputs": [
    {
     "data": {
      "text/plain": [
       "<__main__.Dog at 0x18073b0a290>"
      ]
     },
     "execution_count": 12,
     "metadata": {},
     "output_type": "execute_result"
    }
   ],
   "source": [
    "dog1"
   ]
  },
  {
   "cell_type": "code",
   "execution_count": 13,
   "id": "000569ca",
   "metadata": {},
   "outputs": [
    {
     "data": {
      "text/plain": [
       "'golden'"
      ]
     },
     "execution_count": 13,
     "metadata": {},
     "output_type": "execute_result"
    }
   ],
   "source": [
    "dog1.kind"
   ]
  },
  {
   "cell_type": "code",
   "execution_count": 14,
   "id": "b0661b56",
   "metadata": {},
   "outputs": [],
   "source": [
    "dog2= Dog()"
   ]
  },
  {
   "cell_type": "code",
   "execution_count": 15,
   "id": "314151f7",
   "metadata": {},
   "outputs": [
    {
     "data": {
      "text/plain": [
       "['__class__',\n",
       " '__delattr__',\n",
       " '__dict__',\n",
       " '__dir__',\n",
       " '__doc__',\n",
       " '__eq__',\n",
       " '__format__',\n",
       " '__ge__',\n",
       " '__getattribute__',\n",
       " '__getstate__',\n",
       " '__gt__',\n",
       " '__hash__',\n",
       " '__init__',\n",
       " '__init_subclass__',\n",
       " '__le__',\n",
       " '__lt__',\n",
       " '__module__',\n",
       " '__ne__',\n",
       " '__new__',\n",
       " '__reduce__',\n",
       " '__reduce_ex__',\n",
       " '__repr__',\n",
       " '__setattr__',\n",
       " '__sizeof__',\n",
       " '__str__',\n",
       " '__subclasshook__',\n",
       " '__weakref__',\n",
       " 'age',\n",
       " 'kind']"
      ]
     },
     "execution_count": 15,
     "metadata": {},
     "output_type": "execute_result"
    }
   ],
   "source": [
    "dir(dog2)"
   ]
  },
  {
   "cell_type": "code",
   "execution_count": 24,
   "id": "84bffba9",
   "metadata": {},
   "outputs": [],
   "source": [
    "class Dog:\n",
    "    #self- should be delcared explicitly, in place of self anything can be added\n",
    "    #dunder\n",
    "    def __init__(self):\n",
    "        print('instance initialized')"
   ]
  },
  {
   "cell_type": "code",
   "execution_count": 25,
   "id": "90ca6861",
   "metadata": {},
   "outputs": [
    {
     "name": "stdout",
     "output_type": "stream",
     "text": [
      "instance initialized\n"
     ]
    }
   ],
   "source": [
    "dog1 = Dog()"
   ]
  },
  {
   "cell_type": "code",
   "execution_count": 34,
   "id": "896018c3",
   "metadata": {},
   "outputs": [],
   "source": [
    "class Dog:\n",
    "    def __init__(self,kind,age,name,vaccinate=False):\n",
    "        print(\"instance initialized\")\n",
    "        self.kind=kind\n",
    "        self.age=age\n",
    "        self.name=name\n",
    "    def get_kind(self):\n",
    "        return self.kind\n",
    "    def set_kind(self,kind):\n",
    "        self.kind = kind\n",
    "        \n",
    "        "
   ]
  },
  {
   "cell_type": "code",
   "execution_count": 35,
   "id": "4d0a7a56",
   "metadata": {},
   "outputs": [
    {
     "name": "stdout",
     "output_type": "stream",
     "text": [
      "instance initialized\n"
     ]
    }
   ],
   "source": [
    "dog1=Dog(\"retriever\",\"34\",\"zoya\")"
   ]
  },
  {
   "cell_type": "code",
   "execution_count": 38,
   "id": "b4d799ae",
   "metadata": {},
   "outputs": [
    {
     "data": {
      "text/plain": [
       "{'kind': '5', 'age': '34', 'name': 'zoya'}"
      ]
     },
     "execution_count": 38,
     "metadata": {},
     "output_type": "execute_result"
    }
   ],
   "source": [
    "dog1.__dict__"
   ]
  },
  {
   "cell_type": "code",
   "execution_count": 40,
   "id": "19e4896e",
   "metadata": {},
   "outputs": [
    {
     "data": {
      "text/plain": [
       "'dalmation'"
      ]
     },
     "execution_count": 40,
     "metadata": {},
     "output_type": "execute_result"
    }
   ],
   "source": [
    "dog1.set_kind(\"dalmation\")\n",
    "dog1.get_kind()"
   ]
  },
  {
   "cell_type": "code",
   "execution_count": 41,
   "id": "aba9c46a",
   "metadata": {},
   "outputs": [
    {
     "data": {
      "text/plain": [
       "'dalmation'"
      ]
     },
     "execution_count": 41,
     "metadata": {},
     "output_type": "execute_result"
    }
   ],
   "source": [
    "#pass the instance of a class \n",
    "Dog.get_kind(dog1)"
   ]
  },
  {
   "cell_type": "code",
   "execution_count": 42,
   "id": "3d51f4a5",
   "metadata": {},
   "outputs": [],
   "source": [
    "class Dog(): pass"
   ]
  },
  {
   "cell_type": "code",
   "execution_count": 46,
   "id": "d358590a",
   "metadata": {},
   "outputs": [],
   "source": [
    "import os\n",
    "import sys"
   ]
  },
  {
   "cell_type": "code",
   "execution_count": 48,
   "id": "c617f4bc",
   "metadata": {},
   "outputs": [
    {
     "data": {
      "text/plain": [
       "['C:\\\\ProgramData\\\\anaconda3\\\\Lib\\\\site-packages\\\\ipykernel_launcher.py',\n",
       " '-f',\n",
       " 'C:\\\\Users\\\\malli\\\\AppData\\\\Roaming\\\\jupyter\\\\runtime\\\\kernel-da30b706-3ed9-4afb-b2ff-001c7961f8cf.json']"
      ]
     },
     "execution_count": 48,
     "metadata": {},
     "output_type": "execute_result"
    }
   ],
   "source": [
    "sys.argv"
   ]
  },
  {
   "cell_type": "code",
   "execution_count": 49,
   "id": "647e9557",
   "metadata": {},
   "outputs": [
    {
     "ename": "ValueError",
     "evalue": "invalid literal for int() with base 10: 'ten'",
     "output_type": "error",
     "traceback": [
      "\u001b[1;31m---------------------------------------------------------------------------\u001b[0m",
      "\u001b[1;31mValueError\u001b[0m                                Traceback (most recent call last)",
      "Cell \u001b[1;32mIn[49], line 1\u001b[0m\n\u001b[1;32m----> 1\u001b[0m cl \u001b[38;5;241m=\u001b[39m \u001b[38;5;241m100\u001b[39m \u001b[38;5;241m/\u001b[39m \u001b[38;5;28mint\u001b[39m(\u001b[38;5;124m\"\u001b[39m\u001b[38;5;124mten\u001b[39m\u001b[38;5;124m\"\u001b[39m)\n",
      "\u001b[1;31mValueError\u001b[0m: invalid literal for int() with base 10: 'ten'"
     ]
    }
   ],
   "source": [
    "cl = 100 / int(\"ten\")"
   ]
  },
  {
   "cell_type": "code",
   "execution_count": null,
   "id": "c53eae21",
   "metadata": {},
   "outputs": [],
   "source": []
  }
 ],
 "metadata": {
  "jupytext": {
   "cell_metadata_filter": "-all",
   "formats": "ipynb,py",
   "main_language": "python"
  },
  "kernelspec": {
   "display_name": "Python 3 (ipykernel)",
   "language": "python",
   "name": "python3"
  },
  "language_info": {
   "codemirror_mode": {
    "name": "ipython",
    "version": 3
   },
   "file_extension": ".py",
   "mimetype": "text/x-python",
   "name": "python",
   "nbconvert_exporter": "python",
   "pygments_lexer": "ipython3",
   "version": "3.11.3"
  }
 },
 "nbformat": 4,
 "nbformat_minor": 5
}
