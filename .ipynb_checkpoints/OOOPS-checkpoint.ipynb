{
 "cells": [
  {
   "cell_type": "markdown",
   "id": "ec48edd6",
   "metadata": {
    "lines_to_next_cell": 2
   },
   "source": [
    "OOOPS........ #classes/objects\n",
    "everything in python is object which has attributes and methods(nothing but functions in the class)\n",
    "__ - underscore before any method represents private methods\n",
    "Encapsulation - the grouping lo public and private attributes and methods into a programmatic class, making abstraction possible\n",
    "Example - Designing a deck class , make cards a private attribute(list)\n",
    "Abstraction - idea to expose only relavant data in class interface hiding private attributes and methods\n",
    "classnames - CamelCase\n",
    "methodnames/Variables - snakeCase\n",
    "__init__(self,x,x) - is like constructor for a class aka default method\n",
    "self keyword refers to the current class of an instance"
   ]
  },
  {
   "cell_type": "code",
   "execution_count": null,
   "id": "613a0f55",
   "metadata": {},
   "outputs": [],
   "source": [
    "#python will create a class level object using PVM for every object\n",
    "#static , instance , local variables \n",
    "#static method - general utility method @static method decorator (not using static or instance variables)\n",
    "#instance method - insdie method if we are accessing instance variable is called instance method - first argument is self\n",
    "#class method - @class method decorator we need to put , mostly we will use to access static methods within a class by passing\n",
    "               #cls variable"
   ]
  },
  {
   "cell_type": "code",
   "execution_count": null,
   "id": "71fdb4f3",
   "metadata": {},
   "outputs": [],
   "source": [
    "Accessing attributes and methods of one class in another class --\n",
    "answer)) create parent object first then pass the parent object (not class ) to another class whcih needs that\n",
    "Accessing Attributes and Methods in Python -- ??"
   ]
  },
  {
   "cell_type": "code",
   "execution_count": null,
   "id": "198f0d87",
   "metadata": {
    "lines_to_next_cell": 2
   },
   "outputs": [],
   "source": [
    "#polymorphism - operator overloading . example -- + operator used to concatenate ints and strings as well\n",
    "                # method overriding - child class has same method like parent but with some modification"
   ]
  },
  {
   "cell_type": "code",
   "execution_count": null,
   "id": "1590da2a",
   "metadata": {},
   "outputs": [],
   "source": [
    "#abstraction - abstract method -only declaration bt not engouh implementation\n",
    "            # declare abstract method by using @abstractmethod decorator\n",
    "            #abstractmethod present in abc module - ABC - abstract base class\n",
    "            #abstract class contians both abstract and non abstract methods\n",
    "#interface - only contains abstract methods - service requriement specification - SRS"
   ]
  },
  {
   "cell_type": "code",
   "execution_count": null,
   "id": "61063c7d",
   "metadata": {
    "lines_to_next_cell": 2
   },
   "outputs": [],
   "source": [
    "from abc import abstractmethod\n",
    "class Vehicle:\n",
    "    @abstractmethod\n",
    "    def getNoofWheels(self):\n",
    "        pass"
   ]
  },
  {
   "cell_type": "code",
   "execution_count": null,
   "id": "0d0aaea6",
   "metadata": {},
   "outputs": [],
   "source": [
    "abstract class - class contains abstract methods"
   ]
  },
  {
   "cell_type": "code",
   "execution_count": null,
   "id": "3a900cfd",
   "metadata": {},
   "outputs": [],
   "source": [
    "__variable - privare variable similary private method can also be declare but through \"name manglign\" we can access these also"
   ]
  },
  {
   "cell_type": "code",
   "execution_count": null,
   "id": "4b0d2ef5",
   "metadata": {
    "lines_to_next_cell": 2
   },
   "outputs": [],
   "source": [
    "#_protected  - (single underscore) - within the class you can access like private member also \n",
    "                # outside of class only in child class you can accesss"
   ]
  },
  {
   "cell_type": "code",
   "execution_count": null,
   "id": "14f62b95",
   "metadata": {},
   "outputs": [],
   "source": [
    "#data hiding - declare private member for the variable which shouldn't be seen  - example - bank - bank balance\n",
    "                #some validation/authentication method then return the private member variable through that method in the class"
   ]
  },
  {
   "cell_type": "code",
   "execution_count": null,
   "id": "025e4ac6",
   "metadata": {
    "lines_to_next_cell": 2
   },
   "outputs": [],
   "source": []
  },
  {
   "cell_type": "markdown",
   "id": "6e22bec0",
   "metadata": {},
   "source": [
    "class student:\n",
    "    schoolname = 'durgasoft'\n",
    "    def __init__(self,name,rollno):\n",
    "        self.name = name\n",
    "        self.rollno = rollno\n",
    "    def getStudentInfo(self): #instance method\n",
    "        print(\"student name : \"+ self.name)"
   ]
  },
  {
   "cell_type": "markdown",
   "id": "79e2e25d",
   "metadata": {},
   "source": [
    "    @classmethod\n",
    "    def getSchoolName(cls):\n",
    "        print(\"class static variable \"+ cls.schoolname)"
   ]
  },
  {
   "cell_type": "markdown",
   "id": "73f5fc85",
   "metadata": {},
   "source": [
    "    @staticmethod\n",
    "    def getsum(a,b):\n",
    "        sum = a+b\n",
    "        return sum"
   ]
  },
  {
   "cell_type": "markdown",
   "id": "9ea6cee2",
   "metadata": {},
   "source": [
    "delete,access instance and static varianles : "
   ]
  },
  {
   "cell_type": "code",
   "execution_count": null,
   "id": "59d24513",
   "metadata": {},
   "outputs": [],
   "source": []
  },
  {
   "cell_type": "code",
   "execution_count": null,
   "id": "3e5d7c7f",
   "metadata": {
    "lines_to_next_cell": 2
   },
   "outputs": [],
   "source": []
  },
  {
   "cell_type": "markdown",
   "id": "1b27af06",
   "metadata": {},
   "source": [
    "Define Bank Account Below:\n",
    "class BankAccount:\n",
    "    def __init__(self,owner):\n",
    "        self.owner = owner\n",
    "        self.balance = 0.0"
   ]
  },
  {
   "cell_type": "markdown",
   "id": "fd7c9a6a",
   "metadata": {},
   "source": [
    "    def balance(self):\n",
    "        return self.balance"
   ]
  },
  {
   "cell_type": "markdown",
   "id": "97314bb6",
   "metadata": {},
   "source": [
    "    def deposit(self,amount):"
   ]
  },
  {
   "cell_type": "markdown",
   "id": "9c2faa29",
   "metadata": {},
   "source": [
    "        self.balance = self.balance + amount\n",
    "        return self.balance"
   ]
  },
  {
   "cell_type": "markdown",
   "id": "6c8fdc43",
   "metadata": {},
   "source": [
    "    def withdraw(self,amount):"
   ]
  },
  {
   "cell_type": "markdown",
   "id": "7d791a2c",
   "metadata": {},
   "source": [
    "        self.balance = self.balance - amount\n",
    "        return self.balance"
   ]
  },
  {
   "cell_type": "code",
   "execution_count": null,
   "id": "f76967b2",
   "metadata": {},
   "outputs": [],
   "source": []
  },
  {
   "cell_type": "code",
   "execution_count": null,
   "id": "09d1569a",
   "metadata": {},
   "outputs": [],
   "source": [
    "        "
   ]
  },
  {
   "cell_type": "code",
   "execution_count": null,
   "id": "8cf02eb6",
   "metadata": {},
   "outputs": [],
   "source": []
  },
  {
   "cell_type": "code",
   "execution_count": null,
   "id": "23e0e0ea",
   "metadata": {
    "lines_to_next_cell": 1
   },
   "outputs": [],
   "source": [
    "\"\"\"importnace of class attributes- idependent of instance methods and apply to the whole class\n",
    "\n",
    "\"\"\"\n",
    "class Chicken:\n",
    "    total_eggs = 0\n",
    "    def __init__(self, name, species):\n",
    "        self.name = name\n",
    "        self.species = species\n",
    "        self.eggs = 0\n",
    "    \n",
    "    def lay_egg(self):\n",
    "        self.eggs += 1\n",
    "        Chicken.total_eggs += 1\n",
    "        return self.eggs"
   ]
  },
  {
   "cell_type": "code",
   "execution_count": null,
   "id": "d4642a57",
   "metadata": {},
   "outputs": [],
   "source": [
    "hen1 = Chicken(\"natukodi\",\"kodi\")\n",
    "hen2 = Chicken(\"normalkodi\",\"kodi\")"
   ]
  },
  {
   "cell_type": "code",
   "execution_count": null,
   "id": "9aaa3ff2",
   "metadata": {},
   "outputs": [],
   "source": [
    "\"\"\"Class methods : @class method decorator , concerned with the class itself\n",
    "   cls - keyowrd as like self in instance methods \n",
    "   def(cls, data_stirng):\n",
    "       first,second,thrid = data_string.split(\",\")\n",
    "\n",
    "    we will on use this when we reflect the change on entire class level rather on isntances\n",
    "\n",
    "\"\"\""
   ]
  },
  {
   "cell_type": "code",
   "execution_count": null,
   "id": "4b0d0dd5",
   "metadata": {},
   "outputs": [],
   "source": [
    "\"\"\"\n",
    "dunder __repr__ method : representation\n",
    " while printing the object , we get object at particular memory address \n",
    " isntead repr method will give us the exact info depends on what we return\n",
    " inside that ...\n",
    "\n",
    "\"\"\""
   ]
  },
  {
   "cell_type": "code",
   "execution_count": null,
   "id": "6ff80b7c",
   "metadata": {},
   "outputs": [],
   "source": []
  }
 ],
 "metadata": {
  "jupytext": {
   "cell_metadata_filter": "-all",
   "formats": "ipynb,py",
   "main_language": "python"
  },
  "kernelspec": {
   "display_name": "Python 3 (ipykernel)",
   "language": "python",
   "name": "python3"
  },
  "language_info": {
   "codemirror_mode": {
    "name": "ipython",
    "version": 3
   },
   "file_extension": ".py",
   "mimetype": "text/x-python",
   "name": "python",
   "nbconvert_exporter": "python",
   "pygments_lexer": "ipython3",
   "version": "3.11.3"
  }
 },
 "nbformat": 4,
 "nbformat_minor": 5
}
